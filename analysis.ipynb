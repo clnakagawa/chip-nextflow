{
 "cells": [
  {
   "cell_type": "markdown",
   "metadata": {},
   "source": [
    "Profile plot description:\n",
    "The figure was generated using the profile plot utility of deeptools. Both sample show a peak in ChIP signal and an immediate drop off at the TSS and low signal all the way until the TES as expected. This shows open chromatin at the TSS as expected for conditions with high TF activity"
   ]
  },
  {
   "cell_type": "markdown",
   "metadata": {},
   "source": [
    "Methods:\n",
    "Obtained reads were first put through QC analysis with FastQC. After inspecting QC metrics, reads were then trimmed using Trimmomatic before alignment with Bowtie2 to an index built from the human reference genome (GRCh38), also using Bowtie2. Reads were then sorted and indexed with samtools before samtools flagstat was used to generate metrics for alignment. At this point QC reports and log files were compiled using MultiQC. BigWig files were then generated using deeptools bamCoverage utility, with coverage summarized using deeptools bamCoverage and corrPlot utilities. Peakcalling with MACS3 was then performed on the sorted BAM files. The bedtools intersect utility was then used to generate a set of reproducible peaks by identifying peaks from both replicates that overlapped by 50% reciprocally befor again using bedtools intersect to filter out peaks overlapping blacklisted regions. Peak annotation was done using HOMER with default parameters. Bedtools computeMatrix and plotProfile utilities were then used to generate a profile plot from BigWig files. Lastly, the HOMER findMotifsGenome.pl script was used to find motifs in the filtered peaks. "
   ]
  },
  {
   "cell_type": "markdown",
   "metadata": {},
   "source": [
    "QC Report Summary:\n",
    "Firstly, looking at the FastQC reports, GC content appears to follow a roughly normal distribution but differs slightly between INPUT and IP samples, as well as having what looks to be a small second peak in all distributions. Given that we expect different sequences between IP and INPUT, this isn't a red flag. However, FastQC does consider the distributions for the INNPUT samples to show an issue, which may need to be investigated further. Quality scores also look fine, with high quality across all samples. Duplication is higher in IP samples but again that is to be expected. One concern is the much lower number of sequences in the rep2 INPUT, with 10M instead of the ~30M in other samples. Flagstat results don't seem to show red flags either, with most reads from all samples passing QC checks and mapping. Trimmomatic also shows not many sequences were dropped, which is a good sign. "
   ]
  },
  {
   "cell_type": "code",
   "execution_count": 1,
   "metadata": {},
   "outputs": [],
   "source": [
    "import numpy as np\n",
    "import pandas as pd\n",
    "import matplotlib.pyplot as plt\n"
   ]
  },
  {
   "cell_type": "code",
   "execution_count": null,
   "metadata": {},
   "outputs": [],
   "source": [
    "# read in peaks\n",
    "peaks = pd.read_table(\"results/annotated_peaks.txt\")\n",
    "\n",
    "# set colnames for readability\n",
    "peaks.columns = ['id', 'chrom', 'start', 'end', 'strand', 'score', 'focus', 'annotation', 'details', 'dist', 'promID', 'entrez', 'unigene', 'refseq', 'ensembl', 'gene_name', 'alias', 'desc', 'type']\n",
    "peaks.head(10)"
   ]
  },
  {
   "cell_type": "code",
   "execution_count": null,
   "metadata": {},
   "outputs": [],
   "source": [
    "# read in rnaseq res\n",
    "rnaseq = pd.read_table(\"rnaseq_res.txt\")\n",
    "\n",
    "# filter by padj\n",
    "pcut = 0.05\n",
    "rnaseq_fltr = rnaseq[rnaseq['padj'] < 0.05]\n",
    "rnaseq_fltr.columns = ['gene_name', 'transcript', 'log2FoldChange', 'padj']\n",
    "rnaseq_fltr.head()"
   ]
  },
  {
   "cell_type": "code",
   "execution_count": null,
   "metadata": {},
   "outputs": [],
   "source": [
    "merged = pd.merge(rnaseq_fltr, peaks, on='gene_name')\n",
    "merged.head()"
   ]
  },
  {
   "cell_type": "code",
   "execution_count": null,
   "metadata": {},
   "outputs": [],
   "source": [
    "# read in motif finding\n",
    "motifs = pd.read_table(\"results/homermotifs/knownResults.txt\")\n",
    "motifs.head(20)"
   ]
  },
  {
   "cell_type": "code",
   "execution_count": null,
   "metadata": {},
   "outputs": [],
   "source": [
    "numUp = len(rnaseq_fltr[rnaseq_fltr['log2FoldChange'] > 1])\n",
    "numDn = len(rnaseq_fltr[rnaseq_fltr['log2FoldChange'] < -1])\n",
    "\n",
    "numUp5 = len(merged[merged['log2FoldChange'] > 1][abs(merged['dist']) < 5000])\n",
    "numUp20 = len(merged[merged['log2FoldChange'] > 1][abs(merged['dist']) < 20000])\n",
    "numDn5 = len(merged[merged['log2FoldChange'] < -1][abs(merged['dist']) < 5000])\n",
    "numDn20 = len(merged[merged['log2FoldChange'] < -1][abs(merged['dist']) < 20000])\n",
    "\n",
    "botVals = [numUp5, numDn5, numUp20, numDn20]\n",
    "topVals = [x - y for x,y in zip([numUp, numDn, numUp, numDn], botVals)]\n",
    "botPct = [x * 100 / y for x,y in zip(botVals, [numUp, numDn, numUp, numDn])]\n",
    "topPct = [x * 100 / y for x,y in zip(topVals, [numUp, numDn, numUp, numDn])]\n",
    "\n",
    "fig, ax = plt.subplots(figsize=(10, 6))\n",
    "x = range(4)\n",
    "bar1 = ax.bar(x, botPct, label='Runx1 Binding', color='red')\n",
    "bar2 = ax.bar(x, topPct, bottom=botPct, label='No Runx1 Binding', color='lightgray')\n",
    "ax.set_xticks(x)\n",
    "ax.legend()\n",
    "\n",
    "for i in range(4):\n",
    "    # Label for \"with ChIP\"\n",
    "    ax.text(x[i], botPct[i] / 2, str(botVals[i]),\n",
    "            ha='center', va='center', color='white', fontsize=10)\n",
    "\n",
    "    # Label for \"without ChIP\"\n",
    "    ax.text(x[i], botPct[i] + topPct[i] / 2, str(topVals[i]),\n",
    "            ha='center', va='center', color='black', fontsize=10)\n",
    "ax.set_ylabel('Percentage of Genes')\n",
    "ax.set_xticklabels(['+/-5kb of TSS Upregulated', '+/-5kb of TSS Downregulated',\n",
    "                    '+/-20kb of TSS Upregulated', '+/-20kb of TSS Downregulated'],\n",
    "                    rotation=30)\n",
    "\n",
    "plt.show()\n",
    "\n"
   ]
  },
  {
   "cell_type": "code",
   "execution_count": null,
   "metadata": {},
   "outputs": [],
   "source": []
  }
 ],
 "metadata": {
  "kernelspec": {
   "display_name": "Python 3",
   "language": "python",
   "name": "python3"
  },
  "language_info": {
   "codemirror_mode": {
    "name": "ipython",
    "version": 3
   },
   "file_extension": ".py",
   "mimetype": "text/x-python",
   "name": "python",
   "nbconvert_exporter": "python",
   "pygments_lexer": "ipython3",
   "version": "3.12.10"
  }
 },
 "nbformat": 4,
 "nbformat_minor": 2
}
